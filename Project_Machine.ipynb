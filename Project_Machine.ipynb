{
  "nbformat": 4,
  "nbformat_minor": 0,
  "metadata": {
    "colab": {
      "provenance": []
    },
    "kernelspec": {
      "name": "python3",
      "display_name": "Python 3"
    },
    "language_info": {
      "name": "python"
    }
  },
  "cells": [
    {
      "cell_type": "code",
      "execution_count": null,
      "metadata": {
        "id": "OISA_x_lz0Vv"
      },
      "outputs": [],
      "source": [
        "from sympy import symbols, Eq, solve,sin,cos,linear_eq_to_matrix,init_printing,Matrix,solve,simplify\n",
        "import matplotlib.pyplot as plt\n",
        "from math import pi,sqrt\n",
        "init_printing()"
      ]
    },
    {
      "cell_type": "code",
      "source": [
        "class Linkage():\n",
        "  def __init__(self,Fx_components,Fy_components,toque_component,tilt_angle):\n",
        "    self.Fx_components = Fx_components\n",
        "    self.Fy_components = Fy_components\n",
        "    self.toque_component = toque_component\n",
        "    self.tilt_angle = tilt_angle"
      ],
      "metadata": {
        "id": "ojmozceOa0Ci"
      },
      "execution_count": null,
      "outputs": []
    },
    {
      "cell_type": "code",
      "source": [
        "m,g,xddot,yddot= symbols('m g xddot yddot')\n",
        "\n",
        "#========================================Link 1 =========================================\n",
        "\n",
        "F_Ax, F_Ay,F_ox, F_oy = symbols('F_Ax, F_Ay,F_ox, F_oy')\n",
        "m_1 = symbols('m_1')\n",
        "l_11,l_12,l_cg1 = symbols('l_11,l_12,l_cg1')\n",
        "T_o,T_A = symbols('T_o,T_A')\n",
        "theta_1 = symbols('theta_1')\n",
        "F_1 = [[F_ox,-F_oy], [-F_Ax, F_Ay], [0, m_1*g]]\n",
        "L_1 = [l_11,l_12,l_cg1]\n",
        "TA_1 = [-T_o,T_A]\n",
        "#####################################Link 2 ###########################################\n",
        "F_Ax,F_Ay,F_Bx,F_By  = symbols('F_Ax,F_Ay,F_Bx,F_By')\n",
        "m_2 = symbols('m_2')\n",
        "l_21,l_22,l_cg2 = symbols('l_21,l_22,l_cg2')\n",
        "T_A,T_B = symbols('T_A,T_B')\n",
        "theta_2 = symbols('theta_2')\n",
        "F_2 = [[F_Ax,F_Ay], [-F_Bx, F_By], [0, -m_2*g]]\n",
        "L_2 = [l_21,l_22,l_cg2]\n",
        "TA_2 = [-T_A,T_B]\n",
        "#####################################Link 3 ###########################################\n",
        "F_Bx,F_By,m_load  = symbols('F_Bx,F_By,m_load')\n",
        "l_31,l_32,l_cg3 = symbols('l_31,l_32,l_cg3')\n",
        "T_B = symbols('T_B')\n",
        "m_3 = symbols('m_3')\n",
        "theta_3 = symbols('theta_3')\n",
        "F_3 = [[F_Bx,-F_By], [0,-m_load*g], [0,-m_3*g]]\n",
        "L_3 = [l_31,l_32,l_cg3]\n",
        "TA_3 = [T_B]"
      ],
      "metadata": {
        "id": "VIdl8aXIiD25"
      },
      "execution_count": null,
      "outputs": []
    },
    {
      "cell_type": "code",
      "source": [
        "def forceEquilibrium(F,static = True):\n",
        "  F_x = []\n",
        "  F_y = []\n",
        "  for Fx,Fy in F:\n",
        "    F_x.append(Fx)\n",
        "    F_y.append(Fy)\n",
        "  totalForce_x = sum(F_x)\n",
        "  totalForce_y = sum(F_y)\n",
        "  if (static):\n",
        "    Feqx = Eq(totalForce_x, 0)\n",
        "    Feqy = Eq(totalForce_y, 0)\n",
        "    return Feqx,Feqy\n",
        "  else:\n",
        "    Feqx = Eq(totalForce_x, m*xddot)\n",
        "    Feqy = Eq(totalForce_y, m*yddot)\n",
        "    return Feqx,Feqy\n",
        "  return None\n",
        "def momentEquilibrium(F,L,T,theta,static = True):\n",
        "  TArray = []\n",
        "  i = 0\n",
        "  for Fx ,Fy in F:\n",
        "    Tx = Fx*L[i]*sin(theta)\n",
        "    Ty = Fy*L[i]*cos(theta)\n",
        "    if i < len(T):\n",
        "      TArray.append(T[i])\n",
        "    TArray.append(Tx)\n",
        "    TArray.append(Ty)\n",
        "    i = i+1\n",
        "  totalToque = sum(TArray)\n",
        "  if (static):\n",
        "    Teq = Eq(totalToque, 0)\n",
        "    return Teq\n",
        "  else:\n",
        "    Teq = Eq(totalToque, m*xddot)\n",
        "    return Teq\n",
        "  return 0\n",
        "\n",
        "\n",
        "def unique(List):\n",
        "    unique_list = []\n",
        "    for x in List:\n",
        "        if x not in unique_list:\n",
        "            unique_list.append(x)\n",
        "    return unique_list"
      ],
      "metadata": {
        "id": "S2X2ki02ap5o"
      },
      "execution_count": null,
      "outputs": []
    },
    {
      "cell_type": "code",
      "source": [
        "def Eqlist(F,L,T,theta,static = True):\n",
        "  var = []\n",
        "  i = 0\n",
        "  Fx,Fy = forceEquilibrium(F,static)\n",
        "  T_ = momentEquilibrium(F,L,T,theta,static)\n",
        "  for fx ,fy in F:\n",
        "    if i < len(T):\n",
        "      var.append(T[i])\n",
        "    var.append(fx)\n",
        "    var.append(fy)\n",
        "    i = i+1\n",
        "  display(Fx)\n",
        "  display(Fy)\n",
        "  display(T_)\n",
        "\n",
        "  return [Fx,Fy,T_] , var"
      ],
      "metadata": {
        "id": "pNCIFZkJEvBc"
      },
      "execution_count": null,
      "outputs": []
    },
    {
      "cell_type": "code",
      "source": [
        "Eq1 , var1 = Eqlist(F_1,L_1,TA_1,theta_1)\n",
        "Eq2 , var2 = Eqlist(F_2,L_2,TA_2,theta_2)\n",
        "Eq3 , var3 = Eqlist(F_3,L_3,TA_3,theta_3)\n",
        "eq = [*Eq1,*Eq2,*Eq3]\n",
        "\n",
        "var = [F_ox, F_oy,F_Ax, F_Ay,F_Bx,F_By,T_o,T_A,T_B]\n",
        "equa , lhs = linear_eq_to_matrix(eq,*var)"
      ],
      "metadata": {
        "colab": {
          "base_uri": "https://localhost:8080/",
          "height": 214
        },
        "id": "ek2ht31-3wAI",
        "outputId": "298d1701-46b8-4c95-c477-f72be98afea5"
      },
      "execution_count": null,
      "outputs": [
        {
          "output_type": "display_data",
          "data": {
            "text/plain": [
              "-F_Ax + Fₒₓ = 0"
            ],
            "text/latex": "$\\displaystyle - F_{Ax} + F_{ox} = 0$"
          },
          "metadata": {}
        },
        {
          "output_type": "display_data",
          "data": {
            "text/plain": [
              "F_Ay - F_oy + g⋅m₁ = 0"
            ],
            "text/latex": "$\\displaystyle F_{Ay} - F_{oy} + g m_{1} = 0$"
          },
          "metadata": {}
        },
        {
          "output_type": "display_data",
          "data": {
            "text/plain": [
              "-F_Ax⋅l₁₂⋅sin(θ₁) + F_Ay⋅l₁₂⋅cos(θ₁) + Fₒₓ⋅l₁₁⋅sin(θ₁) - F_oy⋅l₁₁⋅cos(θ₁) + T_\n",
              "A - Tₒ + g⋅l_cg1⋅m₁⋅cos(θ₁) = 0"
            ],
            "text/latex": "$\\displaystyle - F_{Ax} l_{12} \\sin{\\left(\\theta_{1} \\right)} + F_{Ay} l_{12} \\cos{\\left(\\theta_{1} \\right)} + F_{ox} l_{11} \\sin{\\left(\\theta_{1} \\right)} - F_{oy} l_{11} \\cos{\\left(\\theta_{1} \\right)} + T_{A} - T_{o} + g l_{cg1} m_{1} \\cos{\\left(\\theta_{1} \\right)} = 0$"
          },
          "metadata": {}
        },
        {
          "output_type": "display_data",
          "data": {
            "text/plain": [
              "F_Ax - F_Bx = 0"
            ],
            "text/latex": "$\\displaystyle F_{Ax} - F_{Bx} = 0$"
          },
          "metadata": {}
        },
        {
          "output_type": "display_data",
          "data": {
            "text/plain": [
              "F_Ay + F_By - g⋅m₂ = 0"
            ],
            "text/latex": "$\\displaystyle F_{Ay} + F_{By} - g m_{2} = 0$"
          },
          "metadata": {}
        },
        {
          "output_type": "display_data",
          "data": {
            "text/plain": [
              "F_Ax⋅l₂₁⋅sin(θ₂) + F_Ay⋅l₂₁⋅cos(θ₂) - F_Bx⋅l₂₂⋅sin(θ₂) + F_By⋅l₂₂⋅cos(θ₂) - T_\n",
              "A + T_B - g⋅l_cg2⋅m₂⋅cos(θ₂) = 0"
            ],
            "text/latex": "$\\displaystyle F_{Ax} l_{21} \\sin{\\left(\\theta_{2} \\right)} + F_{Ay} l_{21} \\cos{\\left(\\theta_{2} \\right)} - F_{Bx} l_{22} \\sin{\\left(\\theta_{2} \\right)} + F_{By} l_{22} \\cos{\\left(\\theta_{2} \\right)} - T_{A} + T_{B} - g l_{cg2} m_{2} \\cos{\\left(\\theta_{2} \\right)} = 0$"
          },
          "metadata": {}
        },
        {
          "output_type": "display_data",
          "data": {
            "text/plain": [
              "F_Bx = 0"
            ],
            "text/latex": "$\\displaystyle F_{Bx} = 0$"
          },
          "metadata": {}
        },
        {
          "output_type": "display_data",
          "data": {
            "text/plain": [
              "-F_By - g⋅m₃ - g⋅m_load = 0"
            ],
            "text/latex": "$\\displaystyle - F_{By} - g m_{3} - g m_{load} = 0$"
          },
          "metadata": {}
        },
        {
          "output_type": "display_data",
          "data": {
            "text/plain": [
              "F_Bx⋅l₃₁⋅sin(θ₃) - F_By⋅l₃₁⋅cos(θ₃) + T_B - g⋅l₃₂⋅m_load⋅cos(θ₃) - g⋅l_cg3⋅m₃⋅\n",
              "cos(θ₃) = 0"
            ],
            "text/latex": "$\\displaystyle F_{Bx} l_{31} \\sin{\\left(\\theta_{3} \\right)} - F_{By} l_{31} \\cos{\\left(\\theta_{3} \\right)} + T_{B} - g l_{32} m_{load} \\cos{\\left(\\theta_{3} \\right)} - g l_{cg3} m_{3} \\cos{\\left(\\theta_{3} \\right)} = 0$"
          },
          "metadata": {}
        }
      ]
    },
    {
      "cell_type": "code",
      "source": [
        "Eq(MatMul(Matrix(equa),Matrix(var)),Matrix(lhs))"
      ],
      "metadata": {
        "colab": {
          "base_uri": "https://localhost:8080/",
          "height": 200
        },
        "id": "xUGGdDiC6IzU",
        "outputId": "87dc8dac-478a-4e60-d196-ad0b39030d48"
      },
      "execution_count": null,
      "outputs": [
        {
          "output_type": "execute_result",
          "data": {
            "text/plain": [
              "⎡1  0     -1             0             0             0            0   0   0⎤ ⎡\n",
              "⎢                                                                          ⎥ ⎢\n",
              "⎢0  -1    0              1             0             0            0   0   0⎥ ⎢\n",
              "⎢                                                                          ⎥ ⎢\n",
              "⎢0  0   -1.059  6.48450480148524e-17   0             0            -1  1   0⎥ ⎢\n",
              "⎢                                                                          ⎥ ⎢\n",
              "⎢0  0     1              0             -1            0            0   0   0⎥ ⎢\n",
              "⎢                                                                          ⎥ ⎢\n",
              "⎢0  0     0              1             0             1            0   0   0⎥⋅⎢\n",
              "⎢                                                                          ⎥ ⎢\n",
              "⎢0  0     0              0            -1.0  6.12323399573677e-17  0   -1  1⎥ ⎢\n",
              "⎢                                                                          ⎥ ⎢\n",
              "⎢0  0     0              0             1             0            0   0   0⎥ ⎢\n",
              "⎢                                                                          ⎥ ⎢\n",
              "⎢0  0     0              0             0             -1           0   0   0⎥ ⎢\n",
              "⎢                                                                          ⎥ ⎢\n",
              "⎣0  0     0              0             0             0            0   0   1⎦ ⎣\n",
              "\n",
              "Fₒₓ ⎤   ⎡          0          ⎤\n",
              "    ⎥   ⎢                     ⎥\n",
              "F_oy⎥   ⎢     -1610.32131     ⎥\n",
              "    ⎥   ⎢                     ⎥\n",
              "F_Ax⎥   ⎢-4.57422758648649e-14⎥\n",
              "    ⎥   ⎢                     ⎥\n",
              "F_Ay⎥   ⎢          0          ⎥\n",
              "    ⎥   ⎢                     ⎥\n",
              "F_Bx⎥ = ⎢     1454.73471      ⎥\n",
              "    ⎥   ⎢                     ⎥\n",
              "F_By⎥   ⎢4.45384051552513e-14 ⎥\n",
              "    ⎥   ⎢                     ⎥\n",
              " Tₒ ⎥   ⎢          0          ⎥\n",
              "    ⎥   ⎢                     ⎥\n",
              "T_A ⎥   ⎢      1653.966       ⎥\n",
              "    ⎥   ⎢                     ⎥\n",
              "T_B ⎦   ⎣2.68207752349363e-14 ⎦"
            ],
            "text/latex": "$\\displaystyle \\left[\\begin{matrix}1 & 0 & -1 & 0 & 0 & 0 & 0 & 0 & 0\\\\0 & -1 & 0 & 1 & 0 & 0 & 0 & 0 & 0\\\\0 & 0 & -1.059 & 6.48450480148524 \\cdot 10^{-17} & 0 & 0 & -1 & 1 & 0\\\\0 & 0 & 1 & 0 & -1 & 0 & 0 & 0 & 0\\\\0 & 0 & 0 & 1 & 0 & 1 & 0 & 0 & 0\\\\0 & 0 & 0 & 0 & -1.0 & 6.12323399573677 \\cdot 10^{-17} & 0 & -1 & 1\\\\0 & 0 & 0 & 0 & 1 & 0 & 0 & 0 & 0\\\\0 & 0 & 0 & 0 & 0 & -1 & 0 & 0 & 0\\\\0 & 0 & 0 & 0 & 0 & 0 & 0 & 0 & 1\\end{matrix}\\right] \\left[\\begin{matrix}F_{ox}\\\\F_{oy}\\\\F_{Ax}\\\\F_{Ay}\\\\F_{Bx}\\\\F_{By}\\\\T_{o}\\\\T_{A}\\\\T_{B}\\end{matrix}\\right] = \\left[\\begin{matrix}0\\\\-1610.32131\\\\-4.57422758648649 \\cdot 10^{-14}\\\\0\\\\1454.73471\\\\4.45384051552513 \\cdot 10^{-14}\\\\0\\\\1653.966\\\\2.68207752349363 \\cdot 10^{-14}\\end{matrix}\\right]$"
          },
          "metadata": {},
          "execution_count": 94
        }
      ]
    },
    {
      "cell_type": "code",
      "source": [
        "from sympy.matrices.expressions.matmul import MatMul\n",
        "# print()\n",
        "# display(Matrix(var))\n",
        "# print()\n",
        "\n",
        "Solution = Eq(MatMul(Matrix(equa),Matrix(var)),Matrix(lhs))\n",
        "solve(Solution)"
      ],
      "metadata": {
        "colab": {
          "base_uri": "https://localhost:8080/",
          "height": 39
        },
        "id": "gHaHDoMjzzlA",
        "outputId": "1886722e-5b03-43e0-89ef-32e611b8472a"
      },
      "execution_count": null,
      "outputs": [
        {
          "output_type": "execute_result",
          "data": {
            "text/plain": [
              "{F_Ax: 0.0, F_Ay: 3108.70071, F_Bx: 0.0, F_By: -1653.966, Fₒₓ: 0.0, F_oy: 4719\n",
              ".02202, T_A: -1.18993838310243e-13, T_B: 2.68207752349363e-14, Tₒ: 1.283322843\n",
              "58378e-13}"
            ],
            "text/latex": "$\\displaystyle \\left\\{ F_{Ax} : 0.0, \\  F_{Ay} : 3108.70071, \\  F_{Bx} : 0.0, \\  F_{By} : -1653.966, \\  F_{ox} : 0.0, \\  F_{oy} : 4719.02202, \\  T_{A} : -1.18993838310243 \\cdot 10^{-13}, \\  T_{B} : 2.68207752349363 \\cdot 10^{-14}, \\  T_{o} : 1.28332284358378 \\cdot 10^{-13}\\right\\}$"
          },
          "metadata": {},
          "execution_count": 93
        }
      ]
    },
    {
      "cell_type": "code",
      "source": [
        "mat_density = 7930\n",
        "mat_yieldStrength = 2.068e+8\n",
        "mat_altStength = 5.91e+8\n",
        "# theta1 = 64*(2*pi/360)\n",
        "# theta2 = 17*(2*pi/360)\n",
        "# theta3 = 78*(2*pi/360)\n",
        "theta1 = 90*(2*pi/360)\n",
        "theta2 = 90*(2*pi/360)\n",
        "theta3 = 90*(2*pi/360)\n",
        "l1 = 1.059\n",
        "l2 = 1\n",
        "l3 =  0.5\n",
        "lcg1 = 0.4639\n",
        "lcg2 = 0.5\n",
        "lcg3 = 0.25\n",
        "mLoad = 10\n",
        "V1 = 0.0207\n",
        "V2 = 0.0187\n",
        "V3 = 0.02\n"
      ],
      "metadata": {
        "id": "EJ-UPL7INnXd"
      },
      "execution_count": null,
      "outputs": []
    },
    {
      "cell_type": "code",
      "source": [
        "lhs = lhs.subs({m_1:(mat_density*V1),m_2:(mat_density*V2),m_3:(mat_density*V3)})\n",
        "lhs = lhs.subs({'g':9.81})\n",
        "lhs = lhs.subs({m_load:mLoad})\n",
        "lhs = lhs.subs({theta_1:theta1,theta_2:theta2,theta_3:theta3})\n",
        "lhs = lhs.subs({l_cg1:lcg1,l_cg2:lcg2,l_cg3:lcg3})\n",
        "lhs = lhs.subs({l_22:l2,l_32:l3})\n",
        "lhs"
      ],
      "metadata": {
        "colab": {
          "base_uri": "https://localhost:8080/",
          "height": 200
        },
        "id": "2hUhZJYoJsU0",
        "outputId": "378b335a-eac4-4e32-a4d7-01858cccc30a"
      },
      "execution_count": null,
      "outputs": [
        {
          "output_type": "execute_result",
          "data": {
            "text/plain": [
              "⎡          0          ⎤\n",
              "⎢                     ⎥\n",
              "⎢     -1610.32131     ⎥\n",
              "⎢                     ⎥\n",
              "⎢-4.57422758648649e-14⎥\n",
              "⎢                     ⎥\n",
              "⎢          0          ⎥\n",
              "⎢                     ⎥\n",
              "⎢     1454.73471      ⎥\n",
              "⎢                     ⎥\n",
              "⎢4.45384051552513e-14 ⎥\n",
              "⎢                     ⎥\n",
              "⎢          0          ⎥\n",
              "⎢                     ⎥\n",
              "⎢      1653.966       ⎥\n",
              "⎢                     ⎥\n",
              "⎣2.68207752349363e-14 ⎦"
            ],
            "text/latex": "$\\displaystyle \\left[\\begin{matrix}0\\\\-1610.32131\\\\-4.57422758648649 \\cdot 10^{-14}\\\\0\\\\1454.73471\\\\4.45384051552513 \\cdot 10^{-14}\\\\0\\\\1653.966\\\\2.68207752349363 \\cdot 10^{-14}\\end{matrix}\\right]$"
          },
          "metadata": {},
          "execution_count": 69
        }
      ]
    },
    {
      "cell_type": "code",
      "source": [
        "from sympy.matrices.expressions.matmul import MatMul\n",
        "equa = equa.subs({l_11 : 0,l_12 : l1,l_21:0,l_22:l2,l_31:0,l_32:l3})\n",
        "equa = equa.subs({theta_1:theta1,theta_2:theta2,theta_3:theta3})\n",
        "product = MatMul(Matrix(equa).inv(),Matrix(lhs),evaluate=True)\n",
        "\n",
        "sol = Eq(Matrix(var),product)\n",
        "ans  = solve(sol)"
      ],
      "metadata": {
        "id": "jOLFUNe0MWFG"
      },
      "execution_count": null,
      "outputs": []
    },
    {
      "cell_type": "code",
      "source": [
        "ans"
      ],
      "metadata": {
        "colab": {
          "base_uri": "https://localhost:8080/",
          "height": 39
        },
        "id": "MruEU9muPoCi",
        "outputId": "6f891bc6-21d7-4f5e-e78d-a883b8bbee11"
      },
      "execution_count": null,
      "outputs": [
        {
          "output_type": "execute_result",
          "data": {
            "text/plain": [
              "{F_Ax: 0.0, F_Ay: 3108.70071, F_Bx: 0.0, F_By: -1653.966, Fₒₓ: 0.0, F_oy: 4719\n",
              ".02202, T_A: -1.18993838310243e-13, T_B: 2.68207752349363e-14, Tₒ: 1.283322843\n",
              "58378e-13}"
            ],
            "text/latex": "$\\displaystyle \\left\\{ F_{Ax} : 0.0, \\  F_{Ay} : 3108.70071, \\  F_{Bx} : 0.0, \\  F_{By} : -1653.966, \\  F_{ox} : 0.0, \\  F_{oy} : 4719.02202, \\  T_{A} : -1.18993838310243 \\cdot 10^{-13}, \\  T_{B} : 2.68207752349363 \\cdot 10^{-14}, \\  T_{o} : 1.28332284358378 \\cdot 10^{-13}\\right\\}$"
          },
          "metadata": {},
          "execution_count": 71
        }
      ]
    },
    {
      "cell_type": "code",
      "source": [
        "def calculateStress(prop):\n",
        "  M = prop['M']\n",
        "  h = prop['h']\n",
        "  b = prop['b']\n",
        "  F = prop['F']\n",
        "  c = h / 2\n",
        "  I = (1/12)*b*h**3\n",
        "  stressX = M*c/I\n",
        "  stressY = M*c/I + abs(F)/(b*h)\n",
        "  return stressX ,stressY\n",
        "def calculateSaftyFactor(prop):\n",
        "  Sy = mat_yieldStrength\n",
        "  stressMaxX,stressMaxY = calculateStress(prop)\n",
        "  stressMinY = stressMaxY/4\n",
        "  vonmises = (stressMaxY**2 - (stressMinY*stressMaxY)+(stressMinY)**2)**(1/2)\n",
        "  return Sy/vonmises\n"
      ],
      "metadata": {
        "id": "6CUBdn-reZ3R"
      },
      "execution_count": null,
      "outputs": []
    },
    {
      "cell_type": "code",
      "source": [
        "# stress = Fx/A + Mc/I\n",
        "\n",
        "prop1 = {'M':0,'b': 0.062,'h':0.1423,'F': ans[F_oy]}\n",
        "prop2 = {'M':0,'b':0.0862 ,'h': 0.2175 , 'F':ans[F_Ay]}\n",
        "prop3 = {'M':0,'b':0.02,'h':0.4, 'F':ans[F_By]}\n",
        "\n",
        "calculateSaftyFactor(prop2)"
      ],
      "metadata": {
        "colab": {
          "base_uri": "https://localhost:8080/",
          "height": 37
        },
        "id": "cooXgaPFJHhD",
        "outputId": "f665415f-839b-4a95-8177-a3e601b8cbae"
      },
      "execution_count": null,
      "outputs": [
        {
          "output_type": "execute_result",
          "data": {
            "text/plain": [
              "1383.65069107116"
            ],
            "text/latex": "$\\displaystyle 1383.65069107116$"
          },
          "metadata": {},
          "execution_count": 92
        }
      ]
    },
    {
      "cell_type": "code",
      "source": [],
      "metadata": {
        "id": "BRVKjqQXta9y"
      },
      "execution_count": null,
      "outputs": []
    }
  ]
}